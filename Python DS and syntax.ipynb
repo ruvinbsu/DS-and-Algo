{
 "cells": [
  {
   "cell_type": "code",
   "execution_count": 3,
   "metadata": {
    "collapsed": false
   },
   "outputs": [
    {
     "name": "stdout",
     "output_type": "stream",
     "text": [
      "defaultdict(<class 'list'>, {1: [3]})\n"
     ]
    }
   ],
   "source": [
    "# Graph\n",
    "from collections import defaultdict\n",
    "d = defaultdict(list)\n",
    "d[1].append(3)\n",
    "print(d)"
   ]
  },
  {
   "cell_type": "code",
   "execution_count": 30,
   "metadata": {
    "collapsed": false
   },
   "outputs": [
    {
     "data": {
      "text/plain": [
       "(4, 3, 4, -4, 1024, -7, 7)"
      ]
     },
     "execution_count": 30,
     "metadata": {},
     "output_type": "execute_result"
    }
   ],
   "source": [
    "# Bitwise operators\n",
    "6 & 4, 1 | 2, 8 >> 1, -16 >> 2, 1 << 10, ~6, 3 ^ 4"
   ]
  },
  {
   "cell_type": "code",
   "execution_count": 70,
   "metadata": {
    "collapsed": false
   },
   "outputs": [
    {
     "name": "stdout",
     "output_type": "stream",
     "text": [
      "8 8 4 3 43 42 4.24 inf -inf\n",
      "inf\n"
     ]
    },
    {
     "data": {
      "text/plain": [
       "False"
      ]
     },
     "execution_count": 70,
     "metadata": {},
     "output_type": "execute_result"
    }
   ],
   "source": [
    "# Math operations\n",
    "import math\n",
    "print(2 ** 3, pow(2, 3), math.ceil(3.4), math.floor(3.6), str(43), int('42'), float('4.24'), \n",
    "      float('inf'), float('-inf'))\n",
    "x = math.inf\n",
    "print(x)\n",
    "math.isclose(3, 3.000000001)\n",
    "math.isclose(4, 3.999999888)"
   ]
  },
  {
   "cell_type": "code",
   "execution_count": 89,
   "metadata": {
    "collapsed": false
   },
   "outputs": [
    {
     "name": "stdout",
     "output_type": "stream",
     "text": [
      "9\n",
      "0.6502008397931006\n",
      "12\n",
      "[2, 4, 1, 3, 5]\n",
      "2\n"
     ]
    }
   ],
   "source": [
    "# Random\n",
    "import random\n",
    "print(random.randrange(28))\n",
    "print(random.random())\n",
    "print(random.randint(8, 12))\n",
    "l = [1, 2, 3, 4, 5]\n",
    "random.shuffle(l)\n",
    "print(l)\n",
    "print(random.choice([1, 2, 3, 4, 5]))"
   ]
  },
  {
   "cell_type": "code",
   "execution_count": 118,
   "metadata": {
    "collapsed": false
   },
   "outputs": [
    {
     "name": "stdout",
     "output_type": "stream",
     "text": [
      "1\n"
     ]
    }
   ],
   "source": [
    "# Shallow and deep copy\n",
    "import copy\n",
    "a = ['a', 'b', 'c']\n",
    "b = ['d', 'e', 'f']\n",
    "c = [1, 2, 3, a, b]\n",
    "m = copy.copy(c)\n",
    "\n",
    "x = ['a', 'b', 'c']\n",
    "y = ['d', 'e', 'f']\n",
    "z = [1, 2, 3, x, y]\n",
    "\n",
    "n = copy.deepcopy(z)\n",
    "m[3].append('o')\n",
    "m.append(2)\n",
    "n[3].append('o')\n",
    "n.append(2)\n",
    "\n",
    "A = [1, 2, 3]\n",
    "B = A\n",
    "C = list(A)\n",
    "D = A[:]"
   ]
  },
  {
   "cell_type": "code",
   "execution_count": 142,
   "metadata": {
    "collapsed": false
   },
   "outputs": [
    {
     "name": "stdout",
     "output_type": "stream",
     "text": [
      "4\n",
      "3\n",
      "4\n"
     ]
    }
   ],
   "source": [
    "# Binary search\n",
    "import bisect\n",
    "A = [1, 3, 5, 12, 53, 243]\n",
    "print(bisect.bisect(A, 12))\n",
    "print(bisect.bisect_left(A, 12))\n",
    "print(bisect.bisect_right(A, 12))"
   ]
  },
  {
   "cell_type": "code",
   "execution_count": 151,
   "metadata": {
    "collapsed": false
   },
   "outputs": [
    {
     "name": "stdout",
     "output_type": "stream",
     "text": [
      "[243, 53, 12, 5, 3, 1]\n",
      "<list_reverseiterator object at 0x110408b70>\n"
     ]
    }
   ],
   "source": [
    "# Reverse vs Reversed\n",
    "A = [1, 3, 5, 12, 53, 243]\n",
    "A.reverse()\n",
    "print(A)\n",
    "B = [1, 3, 5, 12, 53, 243]\n",
    "C = reversed(B) # returns iterable\n",
    "print(C)"
   ]
  },
  {
   "cell_type": "code",
   "execution_count": 159,
   "metadata": {
    "collapsed": false
   },
   "outputs": [
    {
     "name": "stdout",
     "output_type": "stream",
     "text": [
      "[1, 2, 4, 12, 19]\n",
      "[1, 4, 2, 19, 12]\n",
      "[1, 2, 4, 12, 19]\n",
      "[1, 2, 4, 12, 19]\n"
     ]
    },
    {
     "data": {
      "text/plain": [
       "19"
      ]
     },
     "execution_count": 159,
     "metadata": {},
     "output_type": "execute_result"
    }
   ],
   "source": [
    "# Sort\n",
    "a = [1, 4, 2, 19, 12]\n",
    "a.sort()\n",
    "print(a)\n",
    "\n",
    "b = [1, 4, 2, 19, 12]\n",
    "c = sorted(b) # returns copy\n",
    "print(b)\n",
    "print(c)\n",
    "print(a)"
   ]
  },
  {
   "cell_type": "code",
   "execution_count": 185,
   "metadata": {
    "collapsed": false
   },
   "outputs": [
    {
     "name": "stdout",
     "output_type": "stream",
     "text": [
      "a\n",
      "s\n",
      "a\n",
      "a\n",
      "s\n",
      "1\n",
      "2\n",
      "a\n"
     ]
    },
    {
     "data": {
      "text/plain": [
       "True"
      ]
     },
     "execution_count": 185,
     "metadata": {},
     "output_type": "execute_result"
    }
   ],
   "source": [
    "# filter, zip, map\n",
    "for a in filter(str.isalnum, \"asa?as?12a??\"): # returns iterable\n",
    "    print(a)\n",
    "\n",
    "s = 'A man, a plan, a canal, Panama'\n",
    "all(a == b for a, b in zip(map(str.lower, filter(str.isalnum, s)), map(str.lower, filter(str.isalnum, reversed(s)))))"
   ]
  },
  {
   "cell_type": "code",
   "execution_count": 212,
   "metadata": {
    "collapsed": false
   },
   "outputs": [
    {
     "name": "stdout",
     "output_type": "stream",
     "text": [
      "3\n",
      "3\n"
     ]
    }
   ],
   "source": [
    "# Named tuple\n",
    "from collections import namedtuple  \n",
    "Point = namedtuple('Point', ('x', 'y'))\n",
    "p = Point(3, 4)\n",
    "print(p.x)\n",
    "print(p[0])"
   ]
  },
  {
   "cell_type": "code",
   "execution_count": 217,
   "metadata": {
    "collapsed": false
   },
   "outputs": [
    {
     "name": "stdout",
     "output_type": "stream",
     "text": [
      "1\n",
      "1\n"
     ]
    }
   ],
   "source": [
    "print(ord('1') - 48)\n",
    "print(chr(49))"
   ]
  },
  {
   "cell_type": "code",
   "execution_count": null,
   "metadata": {
    "collapsed": true
   },
   "outputs": [],
   "source": []
  }
 ],
 "metadata": {
  "kernelspec": {
   "display_name": "Python 3",
   "language": "python",
   "name": "python3"
  },
  "language_info": {
   "codemirror_mode": {
    "name": "ipython",
    "version": 3
   },
   "file_extension": ".py",
   "mimetype": "text/x-python",
   "name": "python",
   "nbconvert_exporter": "python",
   "pygments_lexer": "ipython3",
   "version": "3.6.5"
  }
 },
 "nbformat": 4,
 "nbformat_minor": 0
}
